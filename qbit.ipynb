{
  "cells": [
    {
      "cell_type": "code",
      "execution_count": null,
      "metadata": {
        "id": "TV5qn7UktpGB"
      },
      "outputs": [],
      "source": [
        "import matplotlib as mp\n",
        "import numpy as np\n",
        "#pip install scipy\n",
        "from scipy.stats import unitary_group\n",
        "import math"
      ]
    },
    {
      "cell_type": "markdown",
      "metadata": {
        "id": "d_9auhc4tpGE"
      },
      "source": [
        "Having added the necessary libraries, we will create a random Hermitian operator of a user-specified dimension. Dimension=4 in our problem. A library function is used that creates the required operator within the error (!!!) of computer calculations."
      ]
    },
    {
      "cell_type": "code",
      "execution_count": null,
      "metadata": {
        "id": "SlKnDbbItpGI"
      },
      "outputs": [],
      "source": [
        "def matrix_creation(k=4):\n",
        "    print(\"d=\")\n",
        "    k=int(input())\n",
        "    m = unitary_group.rvs(k)\n",
        "    return m\n"
      ]
    },
    {
      "cell_type": "code",
      "execution_count": null,
      "metadata": {
        "id": "lopj9ch8tpGK",
        "outputId": "e26bdb1f-dd4a-4e6f-9381-137fa57ebe80"
      },
      "outputs": [
        {
          "name": "stdout",
          "output_type": "stream",
          "text": [
            "d=\n"
          ]
        }
      ],
      "source": [
        "U=matrix_creation()"
      ]
    },
    {
      "cell_type": "markdown",
      "metadata": {
        "id": "5V6Rs2EytpGN"
      },
      "source": [
        "Algorithm for operator dimension ==d:\n",
        "According to the proved theorem, there are d-1+d-2+d-3+...+(d-d+1)=d^2-(1+d)*d/2"
      ]
    },
    {
      "cell_type": "code",
      "execution_count": null,
      "metadata": {
        "id": "_nKWJSIotpGP"
      },
      "outputs": [],
      "source": [
        "def form_of_Ui(i,d,M=[[0,0,0,0]*d]): #added an arbitrary initial dimension\n",
        "    Ui=unitary_group.rvs(4)*0+np.eye(4)\n",
        "    if i<d:\n",
        "        Si=math.sqrt(M[0,0]*(M[0,0].conj())+M[i,0]*(M[i,0].conj()))\n",
        "        Ui[0,0]=M[0,0].conj()/Si\n",
        "        Ui[i,0]=M[i,0]/Si\n",
        "        Ui[0,i]=M[i,0].conj()/Si\n",
        "        Ui[i,i]=-M[0,0]/Si\n",
        "    if 6>i>d-1:\n",
        "        Si=math.sqrt(M[1,1]*(M[1,1].conj())+M[i-2,1]*(M[i-2,1].conj()))\n",
        "        Ui[1,1]=M[1,1].conj()/Si\n",
        "        Ui[i-2,1]=M[i-2,1]/Si\n",
        "        Ui[1,i-2]=M[i-2,1].conj()/Si\n",
        "        Ui[i-2,i-2]=-M[1,1]/Si\n",
        "    if i==6:\n",
        "        Ui[2,2]=M[2,2].conj()\n",
        "        Ui[3,3]=M[3,1].conj()\n",
        "        Ui[2,3]=M[3,2].conj()\n",
        "        Ui[3,2]=-M[2,3].conj()\n",
        "    return Ui      \n",
        "\n"
      ]
    },
    {
      "cell_type": "markdown",
      "metadata": {
        "id": "QpFxxffmtpGR"
      },
      "source": [
        "Now we calculate all the required matrices and store them in an array:"
      ]
    },
    {
      "cell_type": "code",
      "execution_count": null,
      "metadata": {
        "id": "DQ3WNkgstpGS",
        "outputId": "e05b09bf-f933-4b68-dae2-d73f684898cb"
      },
      "outputs": [
        {
          "name": "stderr",
          "output_type": "stream",
          "text": [
            "C:\\Users\\janed\\AppData\\Local\\Temp\\ipykernel_14444\\88019044.py:4: ComplexWarning: Casting complex values to real discards the imaginary part\n",
            "  Si=math.sqrt(M[0,0]*(M[0,0].conj())+M[i,0]*(M[i,0].conj()))\n",
            "C:\\Users\\janed\\AppData\\Local\\Temp\\ipykernel_14444\\88019044.py:10: ComplexWarning: Casting complex values to real discards the imaginary part\n",
            "  Si=math.sqrt(M[1,1]*(M[1,1].conj())+M[i-2,1]*(M[i-2,1].conj()))\n"
          ]
        }
      ],
      "source": [
        "M=U\n",
        "array_of_all_six_Ui=[]\n",
        "for i in [1,2,3,4,5,6]:\n",
        "    Ui=form_of_Ui(i,M)\n",
        "    array_of_all_six_Ui.append(Ui.conj().T) # the desired matrices are conjugate to the computed\n",
        "    M=np.dot(Ui,M)\n",
        "\n",
        "    "
      ]
    },
    {
      "cell_type": "code",
      "execution_count": null,
      "metadata": {
        "id": "eic_2TXNtpGV",
        "outputId": "49f11213-0aaf-486e-d2dc-4f0b03b096bc"
      },
      "outputs": [
        {
          "name": "stdout",
          "output_type": "stream",
          "text": [
            "[[-0.58265154+0.70436894j  0.22114577+0.33981777j  0.        -0.j\n",
            "   0.        -0.j        ]\n",
            " [ 0.22114577-0.33981777j  0.58265154+0.70436894j  0.        -0.j\n",
            "   0.        -0.j        ]\n",
            " [ 0.        -0.j          0.        -0.j          1.        -0.j\n",
            "   0.        -0.j        ]\n",
            " [ 0.        -0.j          0.        -0.j          0.        -0.j\n",
            "   1.        -0.j        ]] \n",
            "\n",
            "[[ 0.9818101 +0.j          0.        -0.j          0.13109239-0.13734523j\n",
            "   0.        -0.j        ]\n",
            " [ 0.        -0.j          1.        -0.j          0.        -0.j\n",
            "   0.        -0.j        ]\n",
            " [ 0.13109239+0.13734523j  0.        -0.j         -0.9818101 -0.j\n",
            "   0.        -0.j        ]\n",
            " [ 0.        -0.j          0.        -0.j          0.        -0.j\n",
            "   1.        -0.j        ]] \n",
            "\n",
            "[[ 0.93618812-3.46944695e-18j  0.        -0.00000000e+00j\n",
            "   0.        -0.00000000e+00j -0.16037482-3.12780625e-01j]\n",
            " [ 0.        -0.00000000e+00j  1.        -0.00000000e+00j\n",
            "   0.        -0.00000000e+00j  0.        -0.00000000e+00j]\n",
            " [ 0.        -0.00000000e+00j  0.        -0.00000000e+00j\n",
            "   1.        -0.00000000e+00j  0.        -0.00000000e+00j]\n",
            " [-0.16037482+3.12780625e-01j  0.        -0.00000000e+00j\n",
            "   0.        -0.00000000e+00j -0.93618812-3.46944695e-18j]] \n",
            "\n",
            "[[ 1.        -0.j          0.        -0.j          0.        -0.j\n",
            "   0.        -0.j        ]\n",
            " [ 0.        -0.j          0.30963148+0.34940678j  0.74913316+0.4699391j\n",
            "   0.        -0.j        ]\n",
            " [ 0.        -0.j          0.74913316-0.4699391j  -0.30963148+0.34940678j\n",
            "   0.        -0.j        ]\n",
            " [ 0.        -0.j          0.        -0.j          0.        -0.j\n",
            "   1.        -0.j        ]] \n",
            "\n",
            "[[ 1.        -0.j          0.        -0.j          0.        -0.j\n",
            "   0.        -0.j        ]\n",
            " [ 0.        -0.j          0.81032072+0.j          0.        -0.j\n",
            "   0.56935665+0.13861218j]\n",
            " [ 0.        -0.j          0.        -0.j          1.        -0.j\n",
            "   0.        -0.j        ]\n",
            " [ 0.        -0.j          0.56935665-0.13861218j  0.        -0.j\n",
            "  -0.81032072-0.j        ]] \n",
            "\n",
            "[[ 1.00000000e+00-0.j          0.00000000e+00-0.j\n",
            "   0.00000000e+00-0.j          0.00000000e+00-0.j        ]\n",
            " [ 0.00000000e+00-0.j          1.00000000e+00-0.j\n",
            "   0.00000000e+00-0.j          0.00000000e+00-0.j        ]\n",
            " [ 0.00000000e+00-0.j          0.00000000e+00-0.j\n",
            "   5.67417953e-01+0.80372766j -2.13698392e-03+0.17903673j]\n",
            " [ 0.00000000e+00-0.j          0.00000000e+00-0.j\n",
            "   1.48126086e-01-0.10058519j -2.17272656e-17+0.j        ]] \n",
            "\n"
          ]
        }
      ],
      "source": [
        "for j in [0,1,2,3,4,5]:\n",
        "    print(array_of_all_six_Ui[j],'\\n')"
      ]
    }
  ],
  "metadata": {
    "kernelspec": {
      "display_name": "Python 3",
      "language": "python",
      "name": "python3"
    },
    "language_info": {
      "codemirror_mode": {
        "name": "ipython",
        "version": 3
      },
      "file_extension": ".py",
      "mimetype": "text/x-python",
      "name": "python",
      "nbconvert_exporter": "python",
      "pygments_lexer": "ipython3",
      "version": "3.10.10"
    },
    "orig_nbformat": 4,
    "vscode": {
      "interpreter": {
        "hash": "fe2990b515fcd39a66f04ec39bb4473f208e90c36be025d51762d0a3a8901b6e"
      }
    },
    "colab": {
      "provenance": []
    }
  },
  "nbformat": 4,
  "nbformat_minor": 0
}